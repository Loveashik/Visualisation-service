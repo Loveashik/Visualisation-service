{
 "cells": [
  {
   "cell_type": "code",
   "execution_count": 1,
   "id": "04f56440",
   "metadata": {},
   "outputs": [],
   "source": [
    "import numpy as np\n",
    "import pandas as pd\n",
    "import ipywidgets as w\n",
    "from ipywidgets import interact\n",
    "from sklearn.linear_model import LinearRegression\n",
    "from sklearn.preprocessing import StandardScaler\n",
    "from scipy.stats import f_oneway, shapiro, kruskal\n",
    "import matplotlib.pyplot as plt"
   ]
  },
  {
   "cell_type": "code",
   "execution_count": 2,
   "id": "dd8a0364",
   "metadata": {},
   "outputs": [],
   "source": [
    "PATH_TO_DATA = 'data/somascan_171_vs_1305.tsv'"
   ]
  },
  {
   "cell_type": "code",
   "execution_count": 3,
   "id": "83546ef3",
   "metadata": {},
   "outputs": [],
   "source": [
    "proteins_df = pd.read_csv(PATH_TO_DATA, sep='\\t')"
   ]
  },
  {
   "cell_type": "markdown",
   "id": "aeeb38bc",
   "metadata": {},
   "source": [
    "### Краткий обзор данных"
   ]
  },
  {
   "cell_type": "code",
   "execution_count": 4,
   "id": "8249b3e6",
   "metadata": {},
   "outputs": [
    {
     "data": {
      "text/html": [
       "<div>\n",
       "<style scoped>\n",
       "    .dataframe tbody tr th:only-of-type {\n",
       "        vertical-align: middle;\n",
       "    }\n",
       "\n",
       "    .dataframe tbody tr th {\n",
       "        vertical-align: top;\n",
       "    }\n",
       "\n",
       "    .dataframe thead th {\n",
       "        text-align: right;\n",
       "    }\n",
       "</style>\n",
       "<table border=\"1\" class=\"dataframe\">\n",
       "  <thead>\n",
       "    <tr style=\"text-align: right;\">\n",
       "      <th></th>\n",
       "      <th>ID</th>\n",
       "      <th>Age</th>\n",
       "      <th>Sex</th>\n",
       "      <th>Cohort</th>\n",
       "      <th>A2M</th>\n",
       "      <th>ABL1</th>\n",
       "      <th>ABL2</th>\n",
       "      <th>ACAN</th>\n",
       "      <th>ACE2</th>\n",
       "      <th>ACP1</th>\n",
       "      <th>...</th>\n",
       "      <th>XPNPEP1</th>\n",
       "      <th>XRCC6</th>\n",
       "      <th>YES1</th>\n",
       "      <th>YWHAB</th>\n",
       "      <th>YWHAB.YWHAE.YWHAG.YWHAH.YWHAQ.YWHAZ.SFN</th>\n",
       "      <th>YWHAE</th>\n",
       "      <th>YWHAQ</th>\n",
       "      <th>YWHAZ</th>\n",
       "      <th>ZAP70</th>\n",
       "      <th>ZNRF3</th>\n",
       "    </tr>\n",
       "  </thead>\n",
       "  <tbody>\n",
       "    <tr>\n",
       "      <th>79</th>\n",
       "      <td>721102329</td>\n",
       "      <td>93</td>\n",
       "      <td>Female</td>\n",
       "      <td>GEHA</td>\n",
       "      <td>4,045</td>\n",
       "      <td>2,275</td>\n",
       "      <td>2,983</td>\n",
       "      <td>2,797</td>\n",
       "      <td>2,697</td>\n",
       "      <td>3,725</td>\n",
       "      <td>...</td>\n",
       "      <td>4,371</td>\n",
       "      <td>2,262</td>\n",
       "      <td>3,059</td>\n",
       "      <td>4,732</td>\n",
       "      <td>3,951</td>\n",
       "      <td>3,067</td>\n",
       "      <td>3,156</td>\n",
       "      <td>5,291</td>\n",
       "      <td>3,572</td>\n",
       "      <td>2,437</td>\n",
       "    </tr>\n",
       "    <tr>\n",
       "      <th>69</th>\n",
       "      <td>51509071</td>\n",
       "      <td>76</td>\n",
       "      <td>Female</td>\n",
       "      <td>PRIN06</td>\n",
       "      <td>4,079</td>\n",
       "      <td>2,323</td>\n",
       "      <td>3,068</td>\n",
       "      <td>2,642</td>\n",
       "      <td>2,57</td>\n",
       "      <td>2,775</td>\n",
       "      <td>...</td>\n",
       "      <td>3,679</td>\n",
       "      <td>2,126</td>\n",
       "      <td>2,621</td>\n",
       "      <td>3,816</td>\n",
       "      <td>2,975</td>\n",
       "      <td>3,107</td>\n",
       "      <td>3,07</td>\n",
       "      <td>4,672</td>\n",
       "      <td>3,743</td>\n",
       "      <td>2,714</td>\n",
       "    </tr>\n",
       "    <tr>\n",
       "      <th>66</th>\n",
       "      <td>42509013</td>\n",
       "      <td>60</td>\n",
       "      <td>Female</td>\n",
       "      <td>PRIN06</td>\n",
       "      <td>4,637</td>\n",
       "      <td>2,363</td>\n",
       "      <td>3,03</td>\n",
       "      <td>2,592</td>\n",
       "      <td>2,66</td>\n",
       "      <td>3,754</td>\n",
       "      <td>...</td>\n",
       "      <td>4,15</td>\n",
       "      <td>2,131</td>\n",
       "      <td>2,899</td>\n",
       "      <td>4,574</td>\n",
       "      <td>3,445</td>\n",
       "      <td>3,118</td>\n",
       "      <td>3,144</td>\n",
       "      <td>5,311</td>\n",
       "      <td>3,258</td>\n",
       "      <td>2,688</td>\n",
       "    </tr>\n",
       "    <tr>\n",
       "      <th>28</th>\n",
       "      <td>11500311</td>\n",
       "      <td>65</td>\n",
       "      <td>Female</td>\n",
       "      <td>PRIN06</td>\n",
       "      <td>3,903</td>\n",
       "      <td>2,401</td>\n",
       "      <td>3,074</td>\n",
       "      <td>2,606</td>\n",
       "      <td>2,78</td>\n",
       "      <td>3,962</td>\n",
       "      <td>...</td>\n",
       "      <td>3,856</td>\n",
       "      <td>2,225</td>\n",
       "      <td>2,731</td>\n",
       "      <td>4,292</td>\n",
       "      <td>3,243</td>\n",
       "      <td>3,066</td>\n",
       "      <td>2,963</td>\n",
       "      <td>4,966</td>\n",
       "      <td>3,737</td>\n",
       "      <td>2,434</td>\n",
       "    </tr>\n",
       "    <tr>\n",
       "      <th>65</th>\n",
       "      <td>42509001</td>\n",
       "      <td>81</td>\n",
       "      <td>Female</td>\n",
       "      <td>PRIN06</td>\n",
       "      <td>4,889</td>\n",
       "      <td>2,59</td>\n",
       "      <td>2,992</td>\n",
       "      <td>2,652</td>\n",
       "      <td>2,621</td>\n",
       "      <td>3,154</td>\n",
       "      <td>...</td>\n",
       "      <td>3,764</td>\n",
       "      <td>2,262</td>\n",
       "      <td>2,776</td>\n",
       "      <td>4,318</td>\n",
       "      <td>3,064</td>\n",
       "      <td>3,014</td>\n",
       "      <td>3,096</td>\n",
       "      <td>5,137</td>\n",
       "      <td>2,936</td>\n",
       "      <td>2,543</td>\n",
       "    </tr>\n",
       "    <tr>\n",
       "      <th>160</th>\n",
       "      <td>60</td>\n",
       "      <td>66</td>\n",
       "      <td>Male</td>\n",
       "      <td>Seattle</td>\n",
       "      <td>3,919</td>\n",
       "      <td>2,176</td>\n",
       "      <td>2,985</td>\n",
       "      <td>2,662</td>\n",
       "      <td>2,512</td>\n",
       "      <td>3,249</td>\n",
       "      <td>...</td>\n",
       "      <td>4,148</td>\n",
       "      <td>2,106</td>\n",
       "      <td>2,806</td>\n",
       "      <td>4,495</td>\n",
       "      <td>3,617</td>\n",
       "      <td>3,168</td>\n",
       "      <td>3,021</td>\n",
       "      <td>5,251</td>\n",
       "      <td>3,673</td>\n",
       "      <td>2,519</td>\n",
       "    </tr>\n",
       "    <tr>\n",
       "      <th>100</th>\n",
       "      <td>721125716</td>\n",
       "      <td>93</td>\n",
       "      <td>Male</td>\n",
       "      <td>GEHA</td>\n",
       "      <td>4,149</td>\n",
       "      <td>2,343</td>\n",
       "      <td>3,159</td>\n",
       "      <td>2,738</td>\n",
       "      <td>2,606</td>\n",
       "      <td>3,698</td>\n",
       "      <td>...</td>\n",
       "      <td>3,628</td>\n",
       "      <td>2,129</td>\n",
       "      <td>2,707</td>\n",
       "      <td>4,148</td>\n",
       "      <td>3,164</td>\n",
       "      <td>3,223</td>\n",
       "      <td>2,949</td>\n",
       "      <td>4,999</td>\n",
       "      <td>3,798</td>\n",
       "      <td>2,569</td>\n",
       "    </tr>\n",
       "    <tr>\n",
       "      <th>144</th>\n",
       "      <td>44</td>\n",
       "      <td>48</td>\n",
       "      <td>Male</td>\n",
       "      <td>Seattle</td>\n",
       "      <td>4,251</td>\n",
       "      <td>2,334</td>\n",
       "      <td>2,91</td>\n",
       "      <td>2,681</td>\n",
       "      <td>2,42</td>\n",
       "      <td>2,94</td>\n",
       "      <td>...</td>\n",
       "      <td>3,929</td>\n",
       "      <td>2,187</td>\n",
       "      <td>2,688</td>\n",
       "      <td>4,101</td>\n",
       "      <td>3,155</td>\n",
       "      <td>3,243</td>\n",
       "      <td>2,899</td>\n",
       "      <td>5,03</td>\n",
       "      <td>3,644</td>\n",
       "      <td>2,449</td>\n",
       "    </tr>\n",
       "    <tr>\n",
       "      <th>39</th>\n",
       "      <td>21000060</td>\n",
       "      <td>102</td>\n",
       "      <td>Male</td>\n",
       "      <td>PRIN06</td>\n",
       "      <td>4,165</td>\n",
       "      <td>2,427</td>\n",
       "      <td>3,183</td>\n",
       "      <td>2,644</td>\n",
       "      <td>2,561</td>\n",
       "      <td>3,425</td>\n",
       "      <td>...</td>\n",
       "      <td>3,519</td>\n",
       "      <td>2,448</td>\n",
       "      <td>2,709</td>\n",
       "      <td>3,83</td>\n",
       "      <td>2,832</td>\n",
       "      <td>3,229</td>\n",
       "      <td>2,959</td>\n",
       "      <td>4,389</td>\n",
       "      <td>3,761</td>\n",
       "      <td>2,443</td>\n",
       "    </tr>\n",
       "    <tr>\n",
       "      <th>105</th>\n",
       "      <td>5</td>\n",
       "      <td>75</td>\n",
       "      <td>Female</td>\n",
       "      <td>Seattle</td>\n",
       "      <td>4,136</td>\n",
       "      <td>2,305</td>\n",
       "      <td>2,943</td>\n",
       "      <td>2,725</td>\n",
       "      <td>2,338</td>\n",
       "      <td>3,246</td>\n",
       "      <td>...</td>\n",
       "      <td>3,821</td>\n",
       "      <td>2,218</td>\n",
       "      <td>2,669</td>\n",
       "      <td>3,813</td>\n",
       "      <td>2,943</td>\n",
       "      <td>3,173</td>\n",
       "      <td>2,849</td>\n",
       "      <td>4,699</td>\n",
       "      <td>3,677</td>\n",
       "      <td>2,445</td>\n",
       "    </tr>\n",
       "  </tbody>\n",
       "</table>\n",
       "<p>10 rows × 1309 columns</p>\n",
       "</div>"
      ],
      "text/plain": [
       "            ID  Age     Sex   Cohort    A2M   ABL1   ABL2   ACAN   ACE2  \\\n",
       "79   721102329   93  Female     GEHA  4,045  2,275  2,983  2,797  2,697   \n",
       "69    51509071   76  Female   PRIN06  4,079  2,323  3,068  2,642   2,57   \n",
       "66    42509013   60  Female   PRIN06  4,637  2,363   3,03  2,592   2,66   \n",
       "28    11500311   65  Female   PRIN06  3,903  2,401  3,074  2,606   2,78   \n",
       "65    42509001   81  Female   PRIN06  4,889   2,59  2,992  2,652  2,621   \n",
       "160         60   66    Male  Seattle  3,919  2,176  2,985  2,662  2,512   \n",
       "100  721125716   93    Male     GEHA  4,149  2,343  3,159  2,738  2,606   \n",
       "144         44   48    Male  Seattle  4,251  2,334   2,91  2,681   2,42   \n",
       "39    21000060  102    Male   PRIN06  4,165  2,427  3,183  2,644  2,561   \n",
       "105          5   75  Female  Seattle  4,136  2,305  2,943  2,725  2,338   \n",
       "\n",
       "      ACP1  ... XPNPEP1  XRCC6   YES1  YWHAB  \\\n",
       "79   3,725  ...   4,371  2,262  3,059  4,732   \n",
       "69   2,775  ...   3,679  2,126  2,621  3,816   \n",
       "66   3,754  ...    4,15  2,131  2,899  4,574   \n",
       "28   3,962  ...   3,856  2,225  2,731  4,292   \n",
       "65   3,154  ...   3,764  2,262  2,776  4,318   \n",
       "160  3,249  ...   4,148  2,106  2,806  4,495   \n",
       "100  3,698  ...   3,628  2,129  2,707  4,148   \n",
       "144   2,94  ...   3,929  2,187  2,688  4,101   \n",
       "39   3,425  ...   3,519  2,448  2,709   3,83   \n",
       "105  3,246  ...   3,821  2,218  2,669  3,813   \n",
       "\n",
       "    YWHAB.YWHAE.YWHAG.YWHAH.YWHAQ.YWHAZ.SFN  YWHAE  YWHAQ  YWHAZ  ZAP70  ZNRF3  \n",
       "79                                    3,951  3,067  3,156  5,291  3,572  2,437  \n",
       "69                                    2,975  3,107   3,07  4,672  3,743  2,714  \n",
       "66                                    3,445  3,118  3,144  5,311  3,258  2,688  \n",
       "28                                    3,243  3,066  2,963  4,966  3,737  2,434  \n",
       "65                                    3,064  3,014  3,096  5,137  2,936  2,543  \n",
       "160                                   3,617  3,168  3,021  5,251  3,673  2,519  \n",
       "100                                   3,164  3,223  2,949  4,999  3,798  2,569  \n",
       "144                                   3,155  3,243  2,899   5,03  3,644  2,449  \n",
       "39                                    2,832  3,229  2,959  4,389  3,761  2,443  \n",
       "105                                   2,943  3,173  2,849  4,699  3,677  2,445  \n",
       "\n",
       "[10 rows x 1309 columns]"
      ]
     },
     "execution_count": 4,
     "metadata": {},
     "output_type": "execute_result"
    }
   ],
   "source": [
    "proteins_df.sample(10)"
   ]
  },
  {
   "cell_type": "code",
   "execution_count": 5,
   "id": "3d3a1456",
   "metadata": {},
   "outputs": [
    {
     "data": {
      "text/plain": [
       "(171, 1309)"
      ]
     },
     "execution_count": 5,
     "metadata": {},
     "output_type": "execute_result"
    }
   ],
   "source": [
    "proteins_df.shape"
   ]
  },
  {
   "cell_type": "code",
   "execution_count": 6,
   "id": "900d1e92",
   "metadata": {},
   "outputs": [
    {
     "data": {
      "text/plain": [
       "ID         int64\n",
       "Age        int64\n",
       "Sex       object\n",
       "Cohort    object\n",
       "A2M       object\n",
       "           ...  \n",
       "YWHAE     object\n",
       "YWHAQ     object\n",
       "YWHAZ     object\n",
       "ZAP70     object\n",
       "ZNRF3     object\n",
       "Length: 1309, dtype: object"
      ]
     },
     "execution_count": 6,
     "metadata": {},
     "output_type": "execute_result"
    }
   ],
   "source": [
    "proteins_df.dtypes"
   ]
  },
  {
   "cell_type": "markdown",
   "id": "ad075775",
   "metadata": {},
   "source": [
    "Численные значения в колонках имеют разжделитель - запятую, а не точку. Поэтому, чтобы перевести их в числовой формат, необходимо произвести с ними преобразование:"
   ]
  },
  {
   "cell_type": "code",
   "execution_count": 7,
   "id": "38727966",
   "metadata": {},
   "outputs": [],
   "source": [
    "numeric_columns = proteins_df.columns[4:]\n",
    "\n",
    "for col in numeric_columns:\n",
    "    proteins_df[col] = proteins_df[col].apply(lambda x: float(str(x).replace(',', '.')))"
   ]
  },
  {
   "cell_type": "code",
   "execution_count": 8,
   "id": "cbe1259f",
   "metadata": {},
   "outputs": [
    {
     "data": {
      "text/plain": [
       "ID          int64\n",
       "Age         int64\n",
       "Sex        object\n",
       "Cohort     object\n",
       "A2M       float64\n",
       "           ...   \n",
       "YWHAE     float64\n",
       "YWHAQ     float64\n",
       "YWHAZ     float64\n",
       "ZAP70     float64\n",
       "ZNRF3     float64\n",
       "Length: 1309, dtype: object"
      ]
     },
     "execution_count": 8,
     "metadata": {},
     "output_type": "execute_result"
    }
   ],
   "source": [
    "proteins_df.dtypes"
   ]
  },
  {
   "cell_type": "markdown",
   "id": "34d98496",
   "metadata": {},
   "source": [
    "### Посмотрим, есть ли пропущенные значения"
   ]
  },
  {
   "cell_type": "code",
   "execution_count": 9,
   "id": "6cf0944b",
   "metadata": {},
   "outputs": [
    {
     "data": {
      "text/plain": [
       "ID        0\n",
       "Age       0\n",
       "Sex       0\n",
       "Cohort    0\n",
       "A2M       0\n",
       "         ..\n",
       "YWHAE     0\n",
       "YWHAQ     0\n",
       "YWHAZ     0\n",
       "ZAP70     0\n",
       "ZNRF3     0\n",
       "Length: 1309, dtype: int64"
      ]
     },
     "execution_count": 9,
     "metadata": {},
     "output_type": "execute_result"
    }
   ],
   "source": [
    "proteins_df.isna().sum()"
   ]
  },
  {
   "cell_type": "markdown",
   "id": "4892c9a4",
   "metadata": {},
   "source": [
    "Пропущенных значений нет\n",
    "\n",
    "## Поиск самых важных признаков, которые изменяются с возрастом\n",
    "\n",
    "Подбор осуществим с помощью линейной регрессии. Возьмем 5 самых больших по модулю коэффициента и исходя из них определим признаки. При обучении модели будем использовать стандартизированные данные для того, чтобы масштаб изменения признаков был сопоставим. Следовательно, модуль коэффициентов можно будет интерпретировать как значимость соответствующего признака"
   ]
  },
  {
   "cell_type": "code",
   "execution_count": 10,
   "id": "cd0ee06a",
   "metadata": {},
   "outputs": [],
   "source": [
    "X = proteins_df[numeric_columns]\n",
    "X_scaled = StandardScaler().fit_transform(X)\n",
    "y = proteins_df['Age']\n",
    "\n",
    "model = LinearRegression()\n",
    "model.fit(X_scaled, y)\n",
    "\n",
    "importances = model.coef_\n",
    "abs_importances = np.abs(importances)\n",
    "\n",
    "top_5_inds = np.argsort(abs_importances)[-5:]\n",
    "important_proteins = [numeric_columns[i] for i in top_5_inds]"
   ]
  },
  {
   "cell_type": "code",
   "execution_count": 11,
   "id": "9eb945f4",
   "metadata": {},
   "outputs": [
    {
     "name": "stdout",
     "output_type": "stream",
     "text": [
      "CST6\n",
      "RSPO4\n",
      "NPPB.1\n",
      "CD63\n",
      "SOST\n"
     ]
    }
   ],
   "source": [
    "for prot in important_proteins:\n",
    "    print(prot)"
   ]
  },
  {
   "cell_type": "markdown",
   "id": "ebd29a91",
   "metadata": {},
   "source": [
    "Определили пять белков, продукция которых больше всего изменяется с возрастом"
   ]
  },
  {
   "cell_type": "markdown",
   "id": "9fdac19b",
   "metadata": {},
   "source": [
    "### Создадим новый датафрейм, где будут содержаться только отобранные белки"
   ]
  },
  {
   "cell_type": "code",
   "execution_count": 12,
   "id": "45087729",
   "metadata": {},
   "outputs": [],
   "source": [
    "important_proteins_df = proteins_df[['Age', 'Sex'] + important_proteins].copy()"
   ]
  },
  {
   "cell_type": "markdown",
   "id": "f235e88c",
   "metadata": {},
   "source": [
    "### Определим возрастные группы"
   ]
  },
  {
   "cell_type": "code",
   "execution_count": 13,
   "id": "8dc68810",
   "metadata": {},
   "outputs": [],
   "source": [
    "age_groups = np.array([[20, 35],                      \n",
    "                       [36, 55],\n",
    "                       [56, 70],\n",
    "                       [71, 90],\n",
    "                       [91, 120]])\n",
    "\n",
    "age_groups_names = ['20-35', '36-55', '56-70', '71-90', '91-120']"
   ]
  },
  {
   "cell_type": "markdown",
   "id": "10aebaa5",
   "metadata": {},
   "source": [
    "### Для каждого донора определим его возрастную группу"
   ]
  },
  {
   "cell_type": "code",
   "execution_count": 14,
   "id": "44cb6946",
   "metadata": {},
   "outputs": [
    {
     "data": {
      "text/plain": [
       "<AxesSubplot:>"
      ]
     },
     "execution_count": 14,
     "metadata": {},
     "output_type": "execute_result"
    },
    {
     "data": {
      "image/png": "[encoded data removed]",
      "text/plain": [
       "<Figure size 432x288 with 1 Axes>"
      ]
     },
     "metadata": {
      "needs_background": "light"
     },
     "output_type": "display_data"
    }
   ],
   "source": [
    "def get_age_group(x):\n",
    "    x_np = np.array([x])[..., np.newaxis]\n",
    "    return np.argmax((x_np <= age_groups[:, 1]) * (x_np >= age_groups[:, 0]), axis=1)[0]\n",
    "\n",
    "important_proteins_df['Age_group'] = important_proteins_df['Age'].apply(get_age_group)\n",
    "important_proteins_df['Age_group'].hist()"
   ]
  },
  {
   "cell_type": "markdown",
   "id": "530f5fcf",
   "metadata": {},
   "source": [
    "#### Создадим вспомогательный словарь, где для каждого отобранного белка будет содержаться информация о его экспрессии в разбивке по возрастным группам"
   ]
  },
  {
   "cell_type": "code",
   "execution_count": 15,
   "id": "b3b77cc1",
   "metadata": {},
   "outputs": [],
   "source": [
    "protein_groups = {f: [np.array(important_proteins_df[f][important_proteins_df['Age_group'] == g]) \n",
    "                      for g in range(len(age_groups))] for f in important_proteins}"
   ]
  },
  {
   "cell_type": "markdown",
   "id": "a6523a60",
   "metadata": {},
   "source": [
    "### Дисперсионный анализ\n",
    "Проверим статистическую значимость различия средних значений продукции белка между возрастными группами."
   ]
  },
  {
   "cell_type": "code",
   "execution_count": 16,
   "id": "e3801408",
   "metadata": {},
   "outputs": [
    {
     "name": "stdout",
     "output_type": "stream",
     "text": [
      "protein CST6 :: p value: 0.00016647724022315688\n",
      "protein RSPO4 :: p value: 8.454414100217376e-22\n",
      "protein NPPB.1 :: p value: 3.211847263089088e-25\n",
      "protein CD63 :: p value: 0.3616525144148982\n",
      "protein SOST :: p value: 3.8613713269202727e-20\n"
     ]
    }
   ],
   "source": [
    "# статистический тест ANOVA\n",
    "for protein in important_proteins:\n",
    "    print(f'protein {protein} :: p value: {f_oneway(*protein_groups[protein]).pvalue}')"
   ]
  },
  {
   "cell_type": "markdown",
   "id": "06c194eb",
   "metadata": {},
   "source": [
    "Проверим выполнение критерия применимости ANOVA (нормальность распределения данных внутри сравниваемых выборок) с помощью теста Шапиро-Вилка"
   ]
  },
  {
   "cell_type": "code",
   "execution_count": 17,
   "id": "58e3d7db",
   "metadata": {},
   "outputs": [
    {
     "name": "stdout",
     "output_type": "stream",
     "text": [
      "Normality significance of each group: \n",
      "\n",
      "CST6 :: True True True True True \n",
      "RSPO4 :: True True False False True \n",
      "NPPB.1 :: True True True True True \n",
      "CD63 :: True False False False False \n",
      "SOST :: True True True True True \n"
     ]
    }
   ],
   "source": [
    "print('Normality significance of each group: \\n')\n",
    "for protein in important_proteins:\n",
    "    group_tests = f'{protein} :: '\n",
    "    for group in protein_groups[protein]:\n",
    "        group_tests += str(shapiro(group).pvalue > 0.01) + ' '\n",
    "    print(group_tests)"
   ]
  },
  {
   "cell_type": "markdown",
   "id": "44f8e220",
   "metadata": {},
   "source": [
    "Не все данные распределены нормально, исходя из теста Шапиро-Вилка. Проводились различные варианты разбиения на группы, однако, ни один из них не позволил добиться нормального распределения во всех группах.\n",
    "Поэтому, p-value из anova доверять не стоит, и лучше использовать другой тест - Краскела-Уоллеса. Он позволяет работать с данными, распределение которых отлично от нормального. "
   ]
  },
  {
   "cell_type": "code",
   "execution_count": 18,
   "id": "de1884cd",
   "metadata": {},
   "outputs": [
    {
     "name": "stdout",
     "output_type": "stream",
     "text": [
      "protein CST6 :: p value: 0.0004297668684308088\n",
      "protein RSPO4 :: p value: 4.9034477868943947e-17\n",
      "protein NPPB.1 :: p value: 3.077315816059963e-18\n",
      "protein CD63 :: p value: 0.018152213878803836\n",
      "protein SOST :: p value: 7.488194338085093e-12\n"
     ]
    }
   ],
   "source": [
    "# статистический тест Краскела-Уоллеса\n",
    "p_values = {}\n",
    "for protein in important_proteins:\n",
    "    p_value = kruskal(*protein_groups[protein]).pvalue\n",
    "    print(f'protein {protein} :: p value: {p_value}')\n",
    "    p_values[protein] = p_value"
   ]
  },
  {
   "cell_type": "markdown",
   "id": "200fa8d4",
   "metadata": {},
   "source": [
    "Низкие значения p.value говорят о статистической значимости различий между возрастными группами для каждого белка."
   ]
  },
  {
   "cell_type": "code",
   "execution_count": 19,
   "id": "2a208415",
   "metadata": {},
   "outputs": [
    {
     "data": {
      "application/vnd.jupyter.widget-view+json": {
       "model_id": "dcde12e56914497aa3b0d305f6e1dffc",
       "version_major": 2,
       "version_minor": 0
      },
      "text/plain": [
       "interactive(children=(ToggleButtons(button_style='info', description='Protein: ', layout=Layout(align_items='c…"
      ]
     },
     "metadata": {},
     "output_type": "display_data"
    }
   ],
   "source": [
    "switch = w.ToggleButtons(options=important_proteins,\n",
    "                        description='Protein: ',\n",
    "                        disabled=False,\n",
    "                        button_style='info',\n",
    "                        tooltips=important_proteins,\n",
    "                        layout = w.Layout(display='flex',\n",
    "                                          flex_flow='column',\n",
    "                                          align_items='center',\n",
    "                                          width='80%'))\n",
    "\n",
    "@interact(protein=switch)\n",
    "def plot(protein):\n",
    "    plt.figure(figsize=(12, 9))\n",
    "    plt.title(f'p-value for protein {protein} is {p_values[protein]:.5f}')\n",
    "    plt.boxplot(protein_groups[protein])\n",
    "    plt.xticks(range(1, 6), age_groups_names)\n",
    "    plt.xlabel('Age groups')\n",
    "    plt.ylabel('Gene expression')\n",
    "    plt.show()"
   ]
  }
 ],
 "metadata": {
  "kernelspec": {
   "display_name": "Python 3",
   "language": "python",
   "name": "python3"
  },
  "language_info": {
   "codemirror_mode": {
    "name": "ipython",
    "version": 3
   },
   "file_extension": ".py",
   "mimetype": "text/x-python",
   "name": "python",
   "nbconvert_exporter": "python",
   "pygments_lexer": "ipython3",
   "version": "3.8.3"
  }
 },
 "nbformat": 4,
 "nbformat_minor": 5
}
